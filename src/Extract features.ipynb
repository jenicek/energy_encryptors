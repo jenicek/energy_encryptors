{
 "cells": [
  {
   "cell_type": "markdown",
   "id": "97e73434-d105-4034-8390-29624dc5ce68",
   "metadata": {},
   "source": [
    "# Extract features"
   ]
  },
  {
   "cell_type": "code",
   "execution_count": 2,
   "id": "c7f9d780-278c-4a3e-b009-b2ad43c064ac",
   "metadata": {},
   "outputs": [],
   "source": [
    "import tsfel\n",
    "import pandas as pd\n",
    "\n",
    "dataset = pd.read_csv('smart_meters_london_2013.csv')\n",
    "dataset = dataset.T"
   ]
  },
  {
   "cell_type": "code",
   "execution_count": 9,
   "id": "3520edd8-addb-47ff-8f45-1724e4692afa",
   "metadata": {},
   "outputs": [
    {
     "name": "stderr",
     "output_type": "stream",
     "text": [
      "/tmp/ipykernel_125189/1671954317.py:3: UserWarning: Using default sampling frequency set in configuration file.\n",
      "  features = tsfel.time_series_features_extractor(cfg, sample, fs=None)\n"
     ]
    },
    {
     "data": {
      "text/html": [
       "\n",
       "              <p>\n",
       "                  Progress: 100% Complete\n",
       "              <p/>\n",
       "              <progress\n",
       "                  value='67'\n",
       "                  max='67',\n",
       "                  style='width: 25%',\n",
       "              >\n",
       "                  67\n",
       "              </progress>\n",
       "\n",
       "    "
      ],
      "text/plain": [
       "<IPython.core.display.HTML object>"
      ]
     },
     "metadata": {},
     "output_type": "display_data"
    }
   ],
   "source": [
    "sample = dataset.iloc[1]\n",
    "cfg = tsfel.get_features_by_domain()\n",
    "features = tsfel.time_series_features_extractor(cfg, sample, fs=None)"
   ]
  },
  {
   "cell_type": "code",
   "execution_count": 13,
   "id": "b9a1848d-daf2-45d9-b42c-9bbfae95803d",
   "metadata": {},
   "outputs": [
    {
     "name": "stdout",
     "output_type": "stream",
     "text": [
      "   0_Absolute energy  0_Area under the curve  0_Autocorrelation  \\\n",
      "0        3654.483901                42.16699                3.0   \n",
      "\n",
      "   0_Average power  0_Centroid  0_ECDF Percentile Count_0  \\\n",
      "0        41.722616   41.325676                     1752.0   \n",
      "\n",
      "   0_ECDF Percentile Count_1  0_ECDF Percentile_0  0_ECDF Percentile_1  \\\n",
      "0                     7008.0                0.212                 0.65   \n",
      "\n",
      "   0_ECDF_0  ...  0_Wavelet variance_12.5Hz  0_Wavelet variance_2.78Hz  \\\n",
      "0  0.000114  ...                   0.251075                   0.386168   \n",
      "\n",
      "   0_Wavelet variance_25.0Hz  0_Wavelet variance_3.12Hz  \\\n",
      "0                   0.081776                   0.492358   \n",
      "\n",
      "   0_Wavelet variance_3.57Hz  0_Wavelet variance_4.17Hz  \\\n",
      "0                   0.601101                   0.652096   \n",
      "\n",
      "   0_Wavelet variance_5.0Hz  0_Wavelet variance_6.25Hz  \\\n",
      "0                  0.612815                   0.530612   \n",
      "\n",
      "   0_Wavelet variance_8.33Hz  0_Zero crossing rate  \n",
      "0                   0.427796                   0.0  \n",
      "\n",
      "[1 rows x 156 columns]\n"
     ]
    }
   ],
   "source": [
    "print(features[:])"
   ]
  }
 ],
 "metadata": {
  "kernelspec": {
   "display_name": "Python 3 (ipykernel)",
   "language": "python",
   "name": "python3"
  },
  "language_info": {
   "codemirror_mode": {
    "name": "ipython",
    "version": 3
   },
   "file_extension": ".py",
   "mimetype": "text/x-python",
   "name": "python",
   "nbconvert_exporter": "python",
   "pygments_lexer": "ipython3",
   "version": "3.12.3"
  }
 },
 "nbformat": 4,
 "nbformat_minor": 5
}
